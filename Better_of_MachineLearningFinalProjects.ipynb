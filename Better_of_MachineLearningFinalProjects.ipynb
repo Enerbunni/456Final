{
  "nbformat": 4,
  "nbformat_minor": 0,
  "metadata": {
    "colab": {
      "provenance": []
    },
    "kernelspec": {
      "name": "python3",
      "display_name": "Python 3"
    },
    "language_info": {
      "name": "python"
    }
  },
  "cells": [
    {
      "cell_type": "markdown",
      "source": [
        "Setup and imports"
      ],
      "metadata": {
        "id": "tviTYfCeHNri"
      }
    },
    {
      "cell_type": "code",
      "execution_count": 1,
      "metadata": {
        "id": "LKhqZU4hy0Ui"
      },
      "outputs": [],
      "source": [
        "import tensorflow as tf\n",
        "from tensorflow import keras\n",
        "from keras.layers import Dense, Flatten , Dropout, Conv2D, MaxPooling2D, BatchNormalization, MaxPool2D, GlobalAvgPool2D\n",
        "from keras.applications import ResNet152V2\n",
        "from keras.preprocessing.image import ImageDataGenerator\n",
        "from keras.models import Sequential\n",
        "from keras.regularizers import l2\n",
        "from keras.utils import to_categorical\n",
        "from keras.callbacks import ModelCheckpoint, EarlyStopping\n",
        "from keras.optimizers import Adam\n",
        "from sklearn.preprocessing import LabelEncoder\n",
        "from sklearn.model_selection import train_test_split\n",
        "import numpy as np\n",
        "import random\n",
        "import cv2\n",
        "import os\n",
        "import concurrent.futures\n",
        "import matplotlib.pyplot as plt"
      ]
    },
    {
      "cell_type": "markdown",
      "source": [
        "Get input data"
      ],
      "metadata": {
        "id": "r81nA7PbHPek"
      }
    },
    {
      "cell_type": "code",
      "source": [
        "from google.colab import drive\n",
        "drive.mount('/content/drive')"
      ],
      "metadata": {
        "id": "q4e4yUcCH65C",
        "colab": {
          "base_uri": "https://localhost:8080/"
        },
        "outputId": "6cf78753-e768-4ad6-9f6e-7ae511ebbf92"
      },
      "execution_count": 2,
      "outputs": [
        {
          "output_type": "stream",
          "name": "stdout",
          "text": [
            "Mounted at /content/drive\n"
          ]
        }
      ]
    },
    {
      "cell_type": "code",
      "source": [
        "path = '/content/drive/MyDrive/Dataset/raw-img'\n",
        "image_size = 32\n",
        "class_names = sorted(os.listdir(path))\n",
        "\n",
        "def process_animal(animal):\n",
        "    animal_path = path + \"/\" + animal\n",
        "    animal_label = animal\n",
        "    formatted_data = []\n",
        "    print(f\"Started processing animal: {animal_label}\")\n",
        "    for animal_image in os.listdir(animal_path):\n",
        "        formatted_array = []\n",
        "        animal_image_array = cv2.imread(animal_path + \"/\" + animal_image, cv2.IMREAD_GRAYSCALE)\n",
        "        formatted_array = cv2.resize(animal_image_array, (image_size, image_size))\n",
        "        formatted_data.append([formatted_array, animal_label])\n",
        "    print(f\"Finished processing animal: {animal_label}\")\n",
        "    return formatted_data\n",
        "\n",
        "with concurrent.futures.ThreadPoolExecutor() as executor:\n",
        "    results = list(executor.map(process_animal, class_names))\n",
        "    print(\"All tasks have completed.\")\n",
        "\n",
        "formatted_data = [item for sublist in results for item in sublist]"
      ],
      "metadata": {
        "id": "NdzpsVXqHNV4",
        "colab": {
          "base_uri": "https://localhost:8080/"
        },
        "outputId": "806858a4-70f8-472a-bb47-25c3ec5397bc"
      },
      "execution_count": 3,
      "outputs": [
        {
          "output_type": "stream",
          "name": "stdout",
          "text": [
            "Started processing animal: butterfly\n",
            "Started processing animal: cat\n",
            "Started processing animal: chicken\n",
            "Started processing animal: cow\n",
            "Started processing animal: dog\n",
            "Started processing animal: elephant\n",
            "Finished processing animal: elephant\n",
            "Started processing animal: horse\n",
            "Finished processing animal: horse\n",
            "Started processing animal: sheep\n",
            "Finished processing animal: sheep\n",
            "Started processing animal: spider\n",
            "Finished processing animal: spider\n",
            "Started processing animal: squirrel\n",
            "Finished processing animal: squirrel\n",
            "Finished processing animal: cat\n",
            "Finished processing animal: cow\n",
            "Finished processing animal: butterfly\n",
            "Finished processing animal: chicken\n",
            "Finished processing animal: dog\n",
            "All tasks have completed.\n"
          ]
        }
      ]
    },
    {
      "cell_type": "code",
      "source": [
        "random.shuffle(formatted_data)\n",
        "x_data = []\n",
        "y_labels = []\n",
        "\n",
        "# data_gen = ImageDataGenerator(\n",
        "#       rotation_range=5,\n",
        "#       width_shift_range=0.01,\n",
        "#       height_shift_range=0.01,\n",
        "#       rescale=1./25,\n",
        "#       shear_range=0.01,\n",
        "#       zoom_range=0.01)\n",
        "\n",
        "for image, label in formatted_data:\n",
        "  x_data.append(image)\n",
        "  y_labels.append(label)\n",
        "\n",
        "encoder = LabelEncoder()\n",
        "\n",
        "train_data, test_data, train_labels, test_labels = train_test_split(x_data, y_labels, test_size=0.2)\n",
        "\n",
        "train_data, val_data, train_labels, val_labels = train_test_split(train_data, train_labels, test_size=0.2)\n",
        "\n",
        "train_labels = encoder.fit_transform(train_labels)\n",
        "test_labels = encoder.transform(test_labels)\n",
        "val_labels = encoder.transform(val_labels)\n",
        "\n",
        "x_train = np.array(train_data).reshape(-1,image_size,image_size,1)\n",
        "x_train = tf.keras.utils.normalize(x_train,axis=1)\n",
        "\n",
        "# y_train = np.array(train_labels)\n",
        "# x_train = data_gen.flow(x_train, y_train, shuffle=True)\n",
        "\n",
        "val_data = np.array(val_data).reshape(-1,image_size,image_size,1)\n",
        "val_data = tf.keras.utils.normalize(val_data,axis=1)\n",
        "\n",
        "# val_labels = np.array(val_labels)\n",
        "# val_data = data_gen.flow(val_data, val_labels, shuffle=True)\n",
        "\n",
        "test_data = np.array(test_data).reshape(-1,image_size,image_size,1)\n",
        "test_data = tf.keras.utils.normalize(test_data,axis=1)\n",
        "\n",
        "y_train = np.array(train_labels)"
      ],
      "metadata": {
        "id": "2esfQ8yoAR_v"
      },
      "execution_count": 4,
      "outputs": []
    },
    {
      "cell_type": "markdown",
      "source": [
        "Building the model"
      ],
      "metadata": {
        "id": "cRGsEkCp_3cl"
      }
    },
    {
      "cell_type": "code",
      "source": [
        "model = Sequential()\n",
        "model.add(Conv2D(64, 5, activation='relu', input_shape=(image_size, image_size, 1), kernel_regularizer=l2(0.02)))\n",
        "model.add(BatchNormalization())\n",
        "model.add(Dropout(0.3))\n",
        "model.add(MaxPool2D(pool_size=2, strides=2))\n",
        "\n",
        "model.add(Flatten())\n",
        "\n",
        "model.add(Dense(32, activation='relu', kernel_regularizer=l2(0.03)))\n",
        "model.add(Dropout(0.4))\n",
        "\n",
        "model.add(Dense(10, activation='softmax'))"
      ],
      "metadata": {
        "id": "2JAllqtvznoQ"
      },
      "execution_count": 5,
      "outputs": []
    },
    {
      "cell_type": "code",
      "source": [
        "base_model = ResNet152V2(include_top=False, input_shape=(32,32, 3), weights='imagenet')\n",
        "base_model.trainable = True\n",
        "\n",
        "resnet152V2 = Sequential([\n",
        "    base_model,\n",
        "    GlobalAvgPool2D(),\n",
        "    Dense(128, activation='relu', kernel_regularizer=l2(0.03)),\n",
        "    Dropout(0.3),\n",
        "    Dense(32, activation='relu', kernel_regularizer=l2(0.03)),\n",
        "    Dropout(0.4),\n",
        "    Dense(10, activation='softmax')\n",
        "], name='ResNet152V2')\n",
        "\n",
        "resnet152V2.compile(\n",
        "    loss='sparse_categorical_crossentropy',\n",
        "    optimizer='adam',\n",
        "    metrics=['accuracy']\n",
        ")\n",
        "\n",
        "callback = [\n",
        "    EarlyStopping(patience=3, restore_best_weights=True, verbose=1),\n",
        "    ModelCheckpoint('ResNet152V2' + \".h5\", save_best_only=True, verbose=1)\n",
        "]\n",
        "\n",
        "history = resnet152V2.fit(\n",
        "    x_train, validation_data=(val_data, val_labels),\n",
        "    epochs=20, callbacks=callback\n",
        ")"
      ],
      "metadata": {
        "colab": {
          "base_uri": "https://localhost:8080/",
          "height": 790
        },
        "id": "s4LP8AjfNRbA",
        "outputId": "940fa410-5515-40f8-94da-8fc535213aaa"
      },
      "execution_count": null,
      "outputs": [
        {
          "output_type": "stream",
          "name": "stdout",
          "text": [
            "Downloading data from https://storage.googleapis.com/tensorflow/keras-applications/resnet/resnet152v2_weights_tf_dim_ordering_tf_kernels_notop.h5\n",
            "234545216/234545216 [==============================] - 2s 0us/step\n",
            "Epoch 1/20\n"
          ]
        },
        {
          "output_type": "error",
          "ename": "ValueError",
          "evalue": "in user code:\n\n    File \"/usr/local/lib/python3.10/dist-packages/keras/src/engine/training.py\", line 1401, in train_function  *\n        return step_function(self, iterator)\n    File \"/usr/local/lib/python3.10/dist-packages/keras/src/engine/training.py\", line 1384, in step_function  **\n        outputs = model.distribute_strategy.run(run_step, args=(data,))\n    File \"/usr/local/lib/python3.10/dist-packages/keras/src/engine/training.py\", line 1373, in run_step  **\n        outputs = model.train_step(data)\n    File \"/usr/local/lib/python3.10/dist-packages/keras/src/engine/training.py\", line 1150, in train_step\n        y_pred = self(x, training=True)\n    File \"/usr/local/lib/python3.10/dist-packages/keras/src/utils/traceback_utils.py\", line 70, in error_handler\n        raise e.with_traceback(filtered_tb) from None\n    File \"/usr/local/lib/python3.10/dist-packages/keras/src/engine/input_spec.py\", line 280, in assert_input_compatibility\n        raise ValueError(\n\n    ValueError: Exception encountered when calling layer 'resnet152v2' (type Functional).\n    \n    Input 0 of layer \"conv1_conv\" is incompatible with the layer: expected axis -1 of input shape to have value 3, but received input with shape (None, 38, 38, 1)\n    \n    Call arguments received by layer 'resnet152v2' (type Functional):\n      • inputs=tf.Tensor(shape=(None, 32, 32, 1), dtype=float32)\n      • training=True\n      • mask=None\n",
          "traceback": [
            "\u001b[0;31m---------------------------------------------------------------------------\u001b[0m",
            "\u001b[0;31mValueError\u001b[0m                                Traceback (most recent call last)",
            "\u001b[0;32m<ipython-input-47-6149582a5920>\u001b[0m in \u001b[0;36m<cell line: 25>\u001b[0;34m()\u001b[0m\n\u001b[1;32m     23\u001b[0m ]\n\u001b[1;32m     24\u001b[0m \u001b[0;34m\u001b[0m\u001b[0m\n\u001b[0;32m---> 25\u001b[0;31m history = resnet152V2.fit(\n\u001b[0m\u001b[1;32m     26\u001b[0m     \u001b[0mx_train\u001b[0m\u001b[0;34m,\u001b[0m \u001b[0mvalidation_data\u001b[0m\u001b[0;34m=\u001b[0m\u001b[0;34m(\u001b[0m\u001b[0mval_data\u001b[0m\u001b[0;34m,\u001b[0m \u001b[0mval_labels\u001b[0m\u001b[0;34m)\u001b[0m\u001b[0;34m,\u001b[0m\u001b[0;34m\u001b[0m\u001b[0;34m\u001b[0m\u001b[0m\n\u001b[1;32m     27\u001b[0m     \u001b[0mepochs\u001b[0m\u001b[0;34m=\u001b[0m\u001b[0;36m20\u001b[0m\u001b[0;34m,\u001b[0m \u001b[0mcallbacks\u001b[0m\u001b[0;34m=\u001b[0m\u001b[0mcbs\u001b[0m\u001b[0;34m\u001b[0m\u001b[0;34m\u001b[0m\u001b[0m\n",
            "\u001b[0;32m/usr/local/lib/python3.10/dist-packages/keras/src/utils/traceback_utils.py\u001b[0m in \u001b[0;36merror_handler\u001b[0;34m(*args, **kwargs)\u001b[0m\n\u001b[1;32m     68\u001b[0m             \u001b[0;31m# To get the full stack trace, call:\u001b[0m\u001b[0;34m\u001b[0m\u001b[0;34m\u001b[0m\u001b[0m\n\u001b[1;32m     69\u001b[0m             \u001b[0;31m# `tf.debugging.disable_traceback_filtering()`\u001b[0m\u001b[0;34m\u001b[0m\u001b[0;34m\u001b[0m\u001b[0m\n\u001b[0;32m---> 70\u001b[0;31m             \u001b[0;32mraise\u001b[0m \u001b[0me\u001b[0m\u001b[0;34m.\u001b[0m\u001b[0mwith_traceback\u001b[0m\u001b[0;34m(\u001b[0m\u001b[0mfiltered_tb\u001b[0m\u001b[0;34m)\u001b[0m \u001b[0;32mfrom\u001b[0m \u001b[0;32mNone\u001b[0m\u001b[0;34m\u001b[0m\u001b[0;34m\u001b[0m\u001b[0m\n\u001b[0m\u001b[1;32m     71\u001b[0m         \u001b[0;32mfinally\u001b[0m\u001b[0;34m:\u001b[0m\u001b[0;34m\u001b[0m\u001b[0;34m\u001b[0m\u001b[0m\n\u001b[1;32m     72\u001b[0m             \u001b[0;32mdel\u001b[0m \u001b[0mfiltered_tb\u001b[0m\u001b[0;34m\u001b[0m\u001b[0;34m\u001b[0m\u001b[0m\n",
            "\u001b[0;32m/usr/local/lib/python3.10/dist-packages/keras/src/engine/training.py\u001b[0m in \u001b[0;36mtf__train_function\u001b[0;34m(iterator)\u001b[0m\n\u001b[1;32m     13\u001b[0m                 \u001b[0;32mtry\u001b[0m\u001b[0;34m:\u001b[0m\u001b[0;34m\u001b[0m\u001b[0;34m\u001b[0m\u001b[0m\n\u001b[1;32m     14\u001b[0m                     \u001b[0mdo_return\u001b[0m \u001b[0;34m=\u001b[0m \u001b[0;32mTrue\u001b[0m\u001b[0;34m\u001b[0m\u001b[0;34m\u001b[0m\u001b[0m\n\u001b[0;32m---> 15\u001b[0;31m                     \u001b[0mretval_\u001b[0m \u001b[0;34m=\u001b[0m \u001b[0mag__\u001b[0m\u001b[0;34m.\u001b[0m\u001b[0mconverted_call\u001b[0m\u001b[0;34m(\u001b[0m\u001b[0mag__\u001b[0m\u001b[0;34m.\u001b[0m\u001b[0mld\u001b[0m\u001b[0;34m(\u001b[0m\u001b[0mstep_function\u001b[0m\u001b[0;34m)\u001b[0m\u001b[0;34m,\u001b[0m \u001b[0;34m(\u001b[0m\u001b[0mag__\u001b[0m\u001b[0;34m.\u001b[0m\u001b[0mld\u001b[0m\u001b[0;34m(\u001b[0m\u001b[0mself\u001b[0m\u001b[0;34m)\u001b[0m\u001b[0;34m,\u001b[0m \u001b[0mag__\u001b[0m\u001b[0;34m.\u001b[0m\u001b[0mld\u001b[0m\u001b[0;34m(\u001b[0m\u001b[0miterator\u001b[0m\u001b[0;34m)\u001b[0m\u001b[0;34m)\u001b[0m\u001b[0;34m,\u001b[0m \u001b[0;32mNone\u001b[0m\u001b[0;34m,\u001b[0m \u001b[0mfscope\u001b[0m\u001b[0;34m)\u001b[0m\u001b[0;34m\u001b[0m\u001b[0;34m\u001b[0m\u001b[0m\n\u001b[0m\u001b[1;32m     16\u001b[0m                 \u001b[0;32mexcept\u001b[0m\u001b[0;34m:\u001b[0m\u001b[0;34m\u001b[0m\u001b[0;34m\u001b[0m\u001b[0m\n\u001b[1;32m     17\u001b[0m                     \u001b[0mdo_return\u001b[0m \u001b[0;34m=\u001b[0m \u001b[0;32mFalse\u001b[0m\u001b[0;34m\u001b[0m\u001b[0;34m\u001b[0m\u001b[0m\n",
            "\u001b[0;31mValueError\u001b[0m: in user code:\n\n    File \"/usr/local/lib/python3.10/dist-packages/keras/src/engine/training.py\", line 1401, in train_function  *\n        return step_function(self, iterator)\n    File \"/usr/local/lib/python3.10/dist-packages/keras/src/engine/training.py\", line 1384, in step_function  **\n        outputs = model.distribute_strategy.run(run_step, args=(data,))\n    File \"/usr/local/lib/python3.10/dist-packages/keras/src/engine/training.py\", line 1373, in run_step  **\n        outputs = model.train_step(data)\n    File \"/usr/local/lib/python3.10/dist-packages/keras/src/engine/training.py\", line 1150, in train_step\n        y_pred = self(x, training=True)\n    File \"/usr/local/lib/python3.10/dist-packages/keras/src/utils/traceback_utils.py\", line 70, in error_handler\n        raise e.with_traceback(filtered_tb) from None\n    File \"/usr/local/lib/python3.10/dist-packages/keras/src/engine/input_spec.py\", line 280, in assert_input_compatibility\n        raise ValueError(\n\n    ValueError: Exception encountered when calling layer 'resnet152v2' (type Functional).\n    \n    Input 0 of layer \"conv1_conv\" is incompatible with the layer: expected axis -1 of input shape to have value 3, but received input with shape (None, 38, 38, 1)\n    \n    Call arguments received by layer 'resnet152v2' (type Functional):\n      • inputs=tf.Tensor(shape=(None, 32, 32, 1), dtype=float32)\n      • training=True\n      • mask=None\n"
          ]
        }
      ]
    },
    {
      "cell_type": "code",
      "source": [
        "model.summary()"
      ],
      "metadata": {
        "id": "uR55wKn2-Sf5",
        "colab": {
          "base_uri": "https://localhost:8080/"
        },
        "outputId": "3eea2547-edd2-4737-a504-49b83857f731"
      },
      "execution_count": 6,
      "outputs": [
        {
          "output_type": "stream",
          "name": "stdout",
          "text": [
            "Model: \"sequential\"\n",
            "_________________________________________________________________\n",
            " Layer (type)                Output Shape              Param #   \n",
            "=================================================================\n",
            " conv2d (Conv2D)             (None, 28, 28, 64)        1664      \n",
            "                                                                 \n",
            " batch_normalization (Batch  (None, 28, 28, 64)        256       \n",
            " Normalization)                                                  \n",
            "                                                                 \n",
            " dropout (Dropout)           (None, 28, 28, 64)        0         \n",
            "                                                                 \n",
            " max_pooling2d (MaxPooling2  (None, 14, 14, 64)        0         \n",
            " D)                                                              \n",
            "                                                                 \n",
            " flatten (Flatten)           (None, 12544)             0         \n",
            "                                                                 \n",
            " dense (Dense)               (None, 32)                401440    \n",
            "                                                                 \n",
            " dropout_1 (Dropout)         (None, 32)                0         \n",
            "                                                                 \n",
            " dense_1 (Dense)             (None, 10)                330       \n",
            "                                                                 \n",
            "=================================================================\n",
            "Total params: 403690 (1.54 MB)\n",
            "Trainable params: 403562 (1.54 MB)\n",
            "Non-trainable params: 128 (512.00 Byte)\n",
            "_________________________________________________________________\n"
          ]
        }
      ]
    },
    {
      "cell_type": "markdown",
      "source": [
        "Compiling the model"
      ],
      "metadata": {
        "id": "ZEBriHEb_yna"
      }
    },
    {
      "cell_type": "code",
      "source": [
        "model.compile(loss='sparse_categorical_crossentropy', optimizer=Adam(learning_rate=0.001), metrics='accuracy')"
      ],
      "metadata": {
        "id": "dqXfeczD_xwD"
      },
      "execution_count": 7,
      "outputs": []
    },
    {
      "cell_type": "code",
      "source": [
        "call = [\n",
        "    EarlyStopping(patience=6, restore_best_weights=True, verbose=1),\n",
        "    ModelCheckpoint(\"best.h5\", save_best_only=True, verbose=1)\n",
        "]"
      ],
      "metadata": {
        "id": "SQmdeU9YZepF"
      },
      "execution_count": 8,
      "outputs": []
    },
    {
      "cell_type": "code",
      "source": [
        "history = model.fit(x_train, y_train, epochs=50, validation_data=(val_data, val_labels), batch_size=250, callbacks=call)"
      ],
      "metadata": {
        "id": "LFtU9cdOLQbJ",
        "colab": {
          "base_uri": "https://localhost:8080/"
        },
        "outputId": "aa7eb38c-8f71-4c6b-fcd9-340e38109ed4"
      },
      "execution_count": 9,
      "outputs": [
        {
          "output_type": "stream",
          "name": "stdout",
          "text": [
            "Epoch 1/50\n",
            "67/68 [============================>.] - ETA: 0s - loss: 2.7161 - accuracy: 0.2000\n",
            "Epoch 1: val_loss improved from inf to 2.35608, saving model to best.h5\n",
            "68/68 [==============================] - 39s 553ms/step - loss: 2.7158 - accuracy: 0.2000 - val_loss: 2.3561 - val_accuracy: 0.1940\n",
            "Epoch 2/50\n"
          ]
        },
        {
          "output_type": "stream",
          "name": "stderr",
          "text": [
            "/usr/local/lib/python3.10/dist-packages/keras/src/engine/training.py:3103: UserWarning: You are saving your model as an HDF5 file via `model.save()`. This file format is considered legacy. We recommend using instead the native Keras format, e.g. `model.save('my_model.keras')`.\n",
            "  saving_api.save_model(\n"
          ]
        },
        {
          "output_type": "stream",
          "name": "stdout",
          "text": [
            "67/68 [============================>.] - ETA: 0s - loss: 2.2267 - accuracy: 0.2736\n",
            "Epoch 2: val_loss did not improve from 2.35608\n",
            "68/68 [==============================] - 37s 539ms/step - loss: 2.2265 - accuracy: 0.2736 - val_loss: 2.3604 - val_accuracy: 0.2653\n",
            "Epoch 3/50\n",
            "67/68 [============================>.] - ETA: 0s - loss: 2.1443 - accuracy: 0.3152\n",
            "Epoch 3: val_loss did not improve from 2.35608\n",
            "68/68 [==============================] - 36s 533ms/step - loss: 2.1442 - accuracy: 0.3153 - val_loss: 2.3674 - val_accuracy: 0.1813\n",
            "Epoch 4/50\n",
            "67/68 [============================>.] - ETA: 0s - loss: 2.0858 - accuracy: 0.3414\n",
            "Epoch 4: val_loss improved from 2.35608 to 2.31377, saving model to best.h5\n",
            "68/68 [==============================] - 39s 568ms/step - loss: 2.0858 - accuracy: 0.3414 - val_loss: 2.3138 - val_accuracy: 0.3183\n",
            "Epoch 5/50\n",
            "67/68 [============================>.] - ETA: 0s - loss: 2.0548 - accuracy: 0.3449\n",
            "Epoch 5: val_loss improved from 2.31377 to 2.26381, saving model to best.h5\n",
            "68/68 [==============================] - 39s 582ms/step - loss: 2.0547 - accuracy: 0.3448 - val_loss: 2.2638 - val_accuracy: 0.3076\n",
            "Epoch 6/50\n",
            "67/68 [============================>.] - ETA: 0s - loss: 2.0139 - accuracy: 0.3613\n",
            "Epoch 6: val_loss improved from 2.26381 to 2.23333, saving model to best.h5\n",
            "68/68 [==============================] - 37s 546ms/step - loss: 2.0139 - accuracy: 0.3613 - val_loss: 2.2333 - val_accuracy: 0.3324\n",
            "Epoch 7/50\n",
            "67/68 [============================>.] - ETA: 0s - loss: 2.0230 - accuracy: 0.3703\n",
            "Epoch 7: val_loss did not improve from 2.23333\n",
            "68/68 [==============================] - 37s 544ms/step - loss: 2.0230 - accuracy: 0.3703 - val_loss: 2.2711 - val_accuracy: 0.2164\n",
            "Epoch 8/50\n",
            "67/68 [============================>.] - ETA: 0s - loss: 1.9969 - accuracy: 0.3727\n",
            "Epoch 8: val_loss improved from 2.23333 to 2.11391, saving model to best.h5\n",
            "68/68 [==============================] - 37s 547ms/step - loss: 1.9970 - accuracy: 0.3727 - val_loss: 2.1139 - val_accuracy: 0.3904\n",
            "Epoch 9/50\n",
            "67/68 [============================>.] - ETA: 0s - loss: 1.9760 - accuracy: 0.3851\n",
            "Epoch 9: val_loss did not improve from 2.11391\n",
            "68/68 [==============================] - 38s 561ms/step - loss: 1.9762 - accuracy: 0.3849 - val_loss: 2.2027 - val_accuracy: 0.2811\n",
            "Epoch 10/50\n",
            "67/68 [============================>.] - ETA: 0s - loss: 1.9804 - accuracy: 0.3869\n",
            "Epoch 10: val_loss improved from 2.11391 to 2.05283, saving model to best.h5\n",
            "68/68 [==============================] - 36s 527ms/step - loss: 1.9803 - accuracy: 0.3870 - val_loss: 2.0528 - val_accuracy: 0.3861\n",
            "Epoch 11/50\n",
            "67/68 [============================>.] - ETA: 0s - loss: 1.9466 - accuracy: 0.3927\n",
            "Epoch 11: val_loss did not improve from 2.05283\n",
            "68/68 [==============================] - 37s 547ms/step - loss: 1.9465 - accuracy: 0.3928 - val_loss: 2.0953 - val_accuracy: 0.3269\n",
            "Epoch 12/50\n",
            "67/68 [============================>.] - ETA: 0s - loss: 1.9446 - accuracy: 0.3983\n",
            "Epoch 12: val_loss did not improve from 2.05283\n",
            "68/68 [==============================] - 37s 545ms/step - loss: 1.9449 - accuracy: 0.3981 - val_loss: 2.6439 - val_accuracy: 0.2515\n",
            "Epoch 13/50\n",
            "67/68 [============================>.] - ETA: 0s - loss: 1.9771 - accuracy: 0.3969\n",
            "Epoch 13: val_loss improved from 2.05283 to 1.94006, saving model to best.h5\n",
            "68/68 [==============================] - 37s 542ms/step - loss: 1.9768 - accuracy: 0.3969 - val_loss: 1.9401 - val_accuracy: 0.3923\n",
            "Epoch 14/50\n",
            "67/68 [============================>.] - ETA: 0s - loss: 1.9419 - accuracy: 0.4051\n",
            "Epoch 14: val_loss did not improve from 1.94006\n",
            "68/68 [==============================] - 40s 589ms/step - loss: 1.9419 - accuracy: 0.4050 - val_loss: 2.8052 - val_accuracy: 0.2553\n",
            "Epoch 15/50\n",
            "67/68 [============================>.] - ETA: 0s - loss: 1.9236 - accuracy: 0.4061\n",
            "Epoch 15: val_loss did not improve from 1.94006\n",
            "68/68 [==============================] - 37s 552ms/step - loss: 1.9238 - accuracy: 0.4060 - val_loss: 2.7918 - val_accuracy: 0.2575\n",
            "Epoch 16/50\n",
            "67/68 [============================>.] - ETA: 0s - loss: 1.9321 - accuracy: 0.3986\n",
            "Epoch 16: val_loss improved from 1.94006 to 1.93118, saving model to best.h5\n",
            "68/68 [==============================] - 39s 572ms/step - loss: 1.9320 - accuracy: 0.3986 - val_loss: 1.9312 - val_accuracy: 0.3889\n",
            "Epoch 17/50\n",
            "67/68 [============================>.] - ETA: 0s - loss: 1.8882 - accuracy: 0.4176\n",
            "Epoch 17: val_loss did not improve from 1.93118\n",
            "68/68 [==============================] - 36s 529ms/step - loss: 1.8881 - accuracy: 0.4176 - val_loss: 2.0622 - val_accuracy: 0.3596\n",
            "Epoch 18/50\n",
            "67/68 [============================>.] - ETA: 0s - loss: 1.9067 - accuracy: 0.4120\n",
            "Epoch 18: val_loss improved from 1.93118 to 1.92571, saving model to best.h5\n",
            "68/68 [==============================] - 37s 543ms/step - loss: 1.9066 - accuracy: 0.4120 - val_loss: 1.9257 - val_accuracy: 0.3990\n",
            "Epoch 19/50\n",
            "67/68 [============================>.] - ETA: 0s - loss: 1.9049 - accuracy: 0.4144\n",
            "Epoch 19: val_loss did not improve from 1.92571\n",
            "68/68 [==============================] - 37s 542ms/step - loss: 1.9050 - accuracy: 0.4144 - val_loss: 2.0572 - val_accuracy: 0.3698\n",
            "Epoch 20/50\n",
            "67/68 [============================>.] - ETA: 0s - loss: 1.8945 - accuracy: 0.4208\n",
            "Epoch 20: val_loss did not improve from 1.92571\n",
            "68/68 [==============================] - 37s 549ms/step - loss: 1.8945 - accuracy: 0.4208 - val_loss: 1.9900 - val_accuracy: 0.3894\n",
            "Epoch 21/50\n",
            "67/68 [============================>.] - ETA: 0s - loss: 1.8708 - accuracy: 0.4244\n",
            "Epoch 21: val_loss improved from 1.92571 to 1.89792, saving model to best.h5\n",
            "68/68 [==============================] - 42s 615ms/step - loss: 1.8708 - accuracy: 0.4242 - val_loss: 1.8979 - val_accuracy: 0.4078\n",
            "Epoch 22/50\n",
            "67/68 [============================>.] - ETA: 0s - loss: 1.8743 - accuracy: 0.4213\n",
            "Epoch 22: val_loss did not improve from 1.89792\n",
            "68/68 [==============================] - 37s 546ms/step - loss: 1.8744 - accuracy: 0.4210 - val_loss: 4.8662 - val_accuracy: 0.2159\n",
            "Epoch 23/50\n",
            "67/68 [============================>.] - ETA: 0s - loss: 1.8959 - accuracy: 0.4167\n",
            "Epoch 23: val_loss did not improve from 1.89792\n",
            "68/68 [==============================] - 38s 560ms/step - loss: 1.8959 - accuracy: 0.4167 - val_loss: 2.9531 - val_accuracy: 0.2465\n",
            "Epoch 24/50\n",
            "67/68 [============================>.] - ETA: 0s - loss: 1.8775 - accuracy: 0.4219\n",
            "Epoch 24: val_loss did not improve from 1.89792\n",
            "68/68 [==============================] - 37s 547ms/step - loss: 1.8775 - accuracy: 0.4218 - val_loss: 3.0895 - val_accuracy: 0.2505\n",
            "Epoch 25/50\n",
            "67/68 [============================>.] - ETA: 0s - loss: 1.8581 - accuracy: 0.4284\n",
            "Epoch 25: val_loss did not improve from 1.89792\n",
            "68/68 [==============================] - 40s 591ms/step - loss: 1.8585 - accuracy: 0.4282 - val_loss: 3.3426 - val_accuracy: 0.2429\n",
            "Epoch 26/50\n",
            "67/68 [============================>.] - ETA: 0s - loss: 1.8938 - accuracy: 0.4217\n",
            "Epoch 26: val_loss did not improve from 1.89792\n",
            "68/68 [==============================] - 37s 537ms/step - loss: 1.8937 - accuracy: 0.4218 - val_loss: 2.0405 - val_accuracy: 0.3846\n",
            "Epoch 27/50\n",
            "67/68 [============================>.] - ETA: 0s - loss: 1.8544 - accuracy: 0.4299Restoring model weights from the end of the best epoch: 21.\n",
            "\n",
            "Epoch 27: val_loss did not improve from 1.89792\n",
            "68/68 [==============================] - 36s 536ms/step - loss: 1.8545 - accuracy: 0.4298 - val_loss: 1.9484 - val_accuracy: 0.4037\n",
            "Epoch 27: early stopping\n"
          ]
        }
      ]
    },
    {
      "cell_type": "code",
      "source": [
        "loss, accuracy = model.evaluate(test_data, test_labels)\n",
        "\n",
        "print(f'Test accuracy: {accuracy}')"
      ],
      "metadata": {
        "id": "QKpd09mXgM8J",
        "colab": {
          "base_uri": "https://localhost:8080/"
        },
        "outputId": "0ce2b6e7-a9a5-441f-e513-c19c191608ad"
      },
      "execution_count": 10,
      "outputs": [
        {
          "output_type": "stream",
          "name": "stdout",
          "text": [
            "164/164 [==============================] - 2s 14ms/step - loss: 1.9081 - accuracy: 0.4124\n",
            "Test accuracy: 0.41237112879753113\n"
          ]
        }
      ]
    },
    {
      "cell_type": "code",
      "source": [
        "plt.figure()\n",
        "plt.plot(history.history['loss'], label='Training Loss')\n",
        "plt.plot(history.history['val_loss'], label='Validation Loss')\n",
        "plt.title('Training and Validation Loss')\n",
        "plt.xlabel('Epoch')\n",
        "plt.ylabel('Loss')\n",
        "plt.legend()\n",
        "plt.show()"
      ],
      "metadata": {
        "colab": {
          "base_uri": "https://localhost:8080/",
          "height": 472
        },
        "id": "XuF25fBAcD8q",
        "outputId": "db196e51-6412-42ed-8d99-271d21447f91"
      },
      "execution_count": 11,
      "outputs": [
        {
          "output_type": "display_data",
          "data": {
            "text/plain": [
              "<Figure size 640x480 with 1 Axes>"
            ],
            "image/png": "[encoded data removed]"
          },
          "metadata": {}
        }
      ]
    }
  ]
}